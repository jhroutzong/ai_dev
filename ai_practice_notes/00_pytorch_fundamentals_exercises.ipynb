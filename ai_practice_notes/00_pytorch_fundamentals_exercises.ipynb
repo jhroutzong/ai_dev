{
  "cells": [
    {
      "cell_type": "markdown",
      "metadata": {
        "id": "AzDBM_v4iMe7"
      },
      "source": [
        "# 00. PyTorch Fundamentals Exercises\n",
        "\n",
        "### 1. Documentation reading \n",
        "\n",
        "A big part of deep learning (and learning to code in general) is getting familiar with the documentation of a certain framework you're using. We'll be using the PyTorch documentation a lot throughout the rest of this course. So I'd recommend spending 10-minutes reading the following (it's okay if you don't get some things for now, the focus is not yet full understanding, it's awareness):\n",
        "  * The documentation on [`torch.Tensor`](https://pytorch.org/docs/stable/tensors.html#torch-tensor).\n",
        "  * The documentation on [`torch.cuda`](https://pytorch.org/docs/master/notes/cuda.html#cuda-semantics).\n",
        "\n"
      ]
    },
    {
      "cell_type": "code",
      "execution_count": 1,
      "metadata": {
        "id": "bGD0oD8Kizak"
      },
      "outputs": [],
      "source": [
        "# No code solution (reading)"
      ]
    },
    {
      "cell_type": "markdown",
      "metadata": {
        "id": "__iXqqz-ioUJ"
      },
      "source": [
        "### 2. Create a random tensor with shape `(7, 7)`.\n"
      ]
    },
    {
      "cell_type": "code",
      "execution_count": 4,
      "metadata": {
        "id": "6pUq9Dc8i2L7"
      },
      "outputs": [
        {
          "name": "stdout",
          "output_type": "stream",
          "text": [
            "tensor([[0.1371, 0.0287, 0.3228, 0.4309, 0.7613, 0.5281, 0.0028],\n",
            "        [0.6545, 0.8089, 0.4260, 0.2003, 0.8961, 0.1224, 0.1425],\n",
            "        [0.1506, 0.7128, 0.3554, 0.0072, 0.7348, 0.7150, 0.3791],\n",
            "        [0.1843, 0.1206, 0.6594, 0.2132, 0.0178, 0.4639, 0.0431],\n",
            "        [0.5786, 0.5956, 0.9017, 0.8514, 0.4465, 0.4204, 0.2566],\n",
            "        [0.2168, 0.4323, 0.7476, 0.7877, 0.2473, 0.4197, 0.1942],\n",
            "        [0.6320, 0.7452, 0.4902, 0.6230, 0.4909, 0.2524, 0.5821]])\n"
          ]
        }
      ],
      "source": [
        "# Import torch\n",
        "import torch\n",
        "device = \"cuda\" if torch.cuda.is_available() else \"cpu\"\n",
        "# Create random tensor\n",
        "# Create a random tensor with shape (7,7)\n",
        "random_tensor = torch.rand(size=(7, 7))\n",
        "\n",
        "# Print the random tensor\n",
        "print(random_tensor)"
      ]
    },
    {
      "cell_type": "markdown",
      "metadata": {
        "id": "9-XxvRLfiqkR"
      },
      "source": [
        "### 3. Perform a matrix multiplication on the tensor from 2 with another random tensor with shape `(1, 7)` (hint: you may have to transpose the second tensor)."
      ]
    },
    {
      "cell_type": "code",
      "execution_count": 11,
      "metadata": {
        "id": "NcLqR0Sbi_vT"
      },
      "outputs": [
        {
          "name": "stdout",
          "output_type": "stream",
          "text": [
            "Random tensor 1: \n",
            " tensor([[0.1371, 0.0287, 0.3228, 0.4309, 0.7613, 0.5281, 0.0028],\n",
            "        [0.6545, 0.8089, 0.4260, 0.2003, 0.8961, 0.1224, 0.1425],\n",
            "        [0.1506, 0.7128, 0.3554, 0.0072, 0.7348, 0.7150, 0.3791],\n",
            "        [0.1843, 0.1206, 0.6594, 0.2132, 0.0178, 0.4639, 0.0431],\n",
            "        [0.5786, 0.5956, 0.9017, 0.8514, 0.4465, 0.4204, 0.2566],\n",
            "        [0.2168, 0.4323, 0.7476, 0.7877, 0.2473, 0.4197, 0.1942],\n",
            "        [0.6320, 0.7452, 0.4902, 0.6230, 0.4909, 0.2524, 0.5821]]) \n",
            "Random tensor 2: \n",
            " tensor([[0.4245, 0.6476, 0.8377, 0.3655, 0.1432, 0.3743, 0.5706],\n",
            "        [0.5979, 0.2015, 0.1137, 0.7012, 0.3510, 0.3681, 0.7051],\n",
            "        [0.4830, 0.7796, 0.3455, 0.0985, 0.8426, 0.5088, 0.8723],\n",
            "        [0.4391, 0.6432, 0.9850, 0.6431, 0.7894, 0.5335, 0.7424],\n",
            "        [0.4077, 0.8833, 0.9638, 0.1141, 0.7164, 0.7836, 0.1634],\n",
            "        [0.7825, 0.8456, 0.0314, 0.4680, 0.8004, 0.6562, 0.6492],\n",
            "        [0.8584, 0.8527, 0.7272, 0.2170, 0.9600, 0.3578, 0.2145]]) \n",
            " Matrix multiplication of the two:\n"
          ]
        },
        {
          "data": {
            "text/plain": [
              "tensor([[1.1465, 1.7448, 1.4064, 0.7138, 1.6126, 1.4001, 1.1678],\n",
              "        [1.6387, 2.0643, 1.9559, 1.1677, 1.7715, 1.6998, 1.7206],\n",
              "        [1.8494, 2.0997, 1.3433, 1.0952, 2.0396, 1.6840, 1.5694],\n",
              "        [0.9698, 1.2397, 0.6691, 0.5825, 1.2182, 0.8965, 1.2371],\n",
              "        [2.1423, 2.7138, 2.3325, 1.5688, 2.6263, 2.0663, 2.5695],\n",
              "        [1.6533, 2.0558, 1.6576, 1.2293, 2.1340, 1.5795, 2.0199],\n",
              "        [2.1216, 2.4858, 2.3015, 1.5030, 2.3695, 1.8513, 2.1452]])"
            ]
          },
          "execution_count": 11,
          "metadata": {},
          "output_type": "execute_result"
        }
      ],
      "source": [
        "# Create another random tensor\n",
        "random_tensor2 = torch.rand(size=(7,7))\n",
        "print(\"Random tensor 1: \\n\",random_tensor,\"\\nRandom tensor 2: \\n\", random_tensor2,\"\\n Matrix multiplication of the two:\")\n",
        "torch.matmul(random_tensor, random_tensor2)\n",
        "# Perform matrix multiplication \n"
      ]
    },
    {
      "cell_type": "markdown",
      "metadata": {
        "id": "eiutdKUFiryU"
      },
      "source": [
        "### 4. Set the random seed to `0` and do 2 & 3 over again.\n",
        "\n",
        "The output should be:\n",
        "```\n",
        "(tensor([[1.8542],\n",
        "         [1.9611],\n",
        "         [2.2884],\n",
        "         [3.0481],\n",
        "         [1.7067],\n",
        "         [2.5290],\n",
        "         [1.7989]]), torch.Size([7, 1]))\n",
        "```"
      ]
    },
    {
      "cell_type": "code",
      "execution_count": 16,
      "metadata": {
        "id": "D-lOWI_1jRMm"
      },
      "outputs": [
        {
          "name": "stdout",
          "output_type": "stream",
          "text": [
            "tensor([[0.4963, 0.7682, 0.0885, 0.1320, 0.3074, 0.6341, 0.4901],\n",
            "        [0.8964, 0.4556, 0.6323, 0.3489, 0.4017, 0.0223, 0.1689],\n",
            "        [0.2939, 0.5185, 0.6977, 0.8000, 0.1610, 0.2823, 0.6816],\n",
            "        [0.9152, 0.3971, 0.8742, 0.4194, 0.5529, 0.9527, 0.0362],\n",
            "        [0.1852, 0.3734, 0.3051, 0.9320, 0.1759, 0.2698, 0.1507],\n",
            "        [0.0317, 0.2081, 0.9298, 0.7231, 0.7423, 0.5263, 0.2437],\n",
            "        [0.5846, 0.0332, 0.1387, 0.2422, 0.8155, 0.7932, 0.2783]])\n",
            "tensor([[0.4963, 0.7682, 0.0885, 0.1320, 0.3074, 0.6341, 0.4901],\n",
            "        [0.8964, 0.4556, 0.6323, 0.3489, 0.4017, 0.0223, 0.1689],\n",
            "        [0.2939, 0.5185, 0.6977, 0.8000, 0.1610, 0.2823, 0.6816],\n",
            "        [0.9152, 0.3971, 0.8742, 0.4194, 0.5529, 0.9527, 0.0362],\n",
            "        [0.1852, 0.3734, 0.3051, 0.9320, 0.1759, 0.2698, 0.1507],\n",
            "        [0.0317, 0.2081, 0.9298, 0.7231, 0.7423, 0.5263, 0.2437],\n",
            "        [0.5846, 0.0332, 0.1387, 0.2422, 0.8155, 0.7932, 0.2783]])\n"
          ]
        },
        {
          "data": {
            "text/plain": [
              "tensor([[1.4453, 1.0926, 1.4581, 1.3235, 1.4729, 1.2880, 0.7752],\n",
              "        [1.5323, 1.5229, 1.2803, 1.3610, 0.9783, 1.3436, 1.0728],\n",
              "        [1.9851, 1.2829, 1.9461, 1.6327, 1.6470, 1.8897, 1.0188],\n",
              "        [1.6047, 1.9098, 2.3681, 2.3476, 1.6475, 1.9148, 1.4521],\n",
              "        [1.4985, 0.9676, 1.6055, 1.1853, 1.1255, 1.4089, 0.5297],\n",
              "        [1.4340, 1.2833, 2.1648, 2.2554, 1.3629, 1.6467, 1.0185],\n",
              "        [0.9212, 1.1111, 1.4061, 1.7023, 1.3085, 1.4995, 0.7890]])"
            ]
          },
          "execution_count": 16,
          "metadata": {},
          "output_type": "execute_result"
        }
      ],
      "source": [
        "# Set manual seed\n",
        "torch.random.manual_seed(0)\n",
        "\n",
        "# Create two random tensors\n",
        "random_tensor = torch.rand(size=(7,7))\n",
        "print(random_tensor)\n",
        "\n",
        "#reset \n",
        "torch.random.manual_seed(0)\n",
        "\n",
        "#redo 3\n",
        "random_tensor2 = torch.rand(size=(7,7))\n",
        "print(random_tensor2)\n",
        "# Matrix multiply tensors\n",
        "\n",
        "torch.matmul(random_tensor, random_tensor2)\n"
      ]
    },
    {
      "cell_type": "markdown",
      "metadata": {
        "id": "ezY6ks9Cis37"
      },
      "source": [
        "### 5. Speaking of random seeds, we saw how to set it with `torch.manual_seed()` but is there a GPU equivalent? (hint: you'll need to look into the documentation for `torch.cuda` for this one)\n",
        "  * If there is, set the GPU random seed to `1234`."
      ]
    },
    {
      "cell_type": "code",
      "execution_count": 20,
      "metadata": {
        "id": "_LKWcfSTjp00"
      },
      "outputs": [
        {
          "name": "stdout",
          "output_type": "stream",
          "text": [
            "cuda\n"
          ]
        }
      ],
      "source": [
        "# Set random seed on the GPU\n",
        "torch.cuda.manual_seed(1234)"
      ]
    },
    {
      "cell_type": "markdown",
      "metadata": {
        "id": "Ir9qSaj6it4n"
      },
      "source": [
        "\n",
        "### 6. Create two random tensors of shape `(2, 3)` and send them both to the GPU (you'll need access to a GPU for this). Set `torch.manual_seed(1234)` when creating the tensors (this doesn't have to be the GPU random seed). The output should be something like:\n",
        "\n",
        "```\n",
        "Device: cuda\n",
        "(tensor([[0.0290, 0.4019, 0.2598],\n",
        "         [0.3666, 0.0583, 0.7006]], device='cuda:0'),\n",
        " tensor([[0.0518, 0.4681, 0.6738],\n",
        "         [0.3315, 0.7837, 0.5631]], device='cuda:0'))\n",
        "```"
      ]
    },
    {
      "cell_type": "code",
      "execution_count": 39,
      "metadata": {
        "id": "azXExiFZj5nm"
      },
      "outputs": [
        {
          "name": "stdout",
          "output_type": "stream",
          "text": [
            "tensor([[0.0290, 0.4019, 0.2598],\n",
            "        [0.3666, 0.0583, 0.7006]], device='cuda:0')\n",
            "tensor([[0.0518, 0.4681, 0.6738],\n",
            "        [0.3315, 0.7837, 0.5631]], device='cuda:0')\n"
          ]
        }
      ],
      "source": [
        "\n",
        "torch.manual_seed(1234)\n",
        "random_tensor = torch.rand(size=(2,3)).to(device)\n",
        "print(random_tensor)\n",
        "random_tensor2 = torch.rand(size=(2,3)).to(device)\n",
        "print(random_tensor2)\n",
        "\n",
        "### There is a difference between creating a tensor with a device of cuda and creating a tensor on cpu and sending it to cuda\n",
        "\n"
      ]
    },
    {
      "cell_type": "markdown",
      "metadata": {
        "id": "5TlAxeiSiu1y"
      },
      "source": [
        "\n",
        "### 7. Perform a matrix multiplication on the tensors you created in 6 (again, you may have to adjust the shapes of one of the tensors).\n",
        "\n",
        "The output should look like:\n",
        "```\n",
        "(tensor([[0.3647, 0.4709],\n",
        "         [0.5184, 0.5617]], device='cuda:0'), torch.Size([2, 2]))\n",
        "```"
      ]
    },
    {
      "cell_type": "code",
      "execution_count": 31,
      "metadata": {
        "id": "fAeG7ox0lHEO"
      },
      "outputs": [],
      "source": [
        "# Perform matmul on tensor_A and tensor_B\n",
        "results = torch.matmul(random_tensor, random_tensor2.t())"
      ]
    },
    {
      "cell_type": "markdown",
      "metadata": {
        "id": "G7qfa5CSivwg"
      },
      "source": [
        "### 8. Find the maximum and minimum values of the output of 7."
      ]
    },
    {
      "cell_type": "code",
      "execution_count": 33,
      "metadata": {
        "id": "Fu8_3mZpllOd"
      },
      "outputs": [
        {
          "name": "stdout",
          "output_type": "stream",
          "text": [
            "tensor(1.4578, device='cuda:0')\n",
            "tensor(0.8358, device='cuda:0')\n"
          ]
        }
      ],
      "source": [
        "# Find max\n",
        "print(results.max())\n",
        "print(results.min())\n",
        "# Find min\n"
      ]
    },
    {
      "cell_type": "markdown",
      "metadata": {
        "id": "wrTj5FgNiw47"
      },
      "source": [
        "### 9. Find the maximum and minimum index values of the output of 7."
      ]
    },
    {
      "cell_type": "code",
      "execution_count": 34,
      "metadata": {
        "id": "CCEKt4K2lsfQ"
      },
      "outputs": [
        {
          "name": "stdout",
          "output_type": "stream",
          "text": [
            "tensor(3, device='cuda:0')\n",
            "tensor(1, device='cuda:0')\n"
          ]
        }
      ],
      "source": [
        "# Find arg max\n",
        "print(results.argmax())\n",
        "\n",
        "\n",
        "# Find arg min\n",
        "print(results.argmin())"
      ]
    },
    {
      "cell_type": "markdown",
      "metadata": {
        "id": "hmeybz4uixy7"
      },
      "source": [
        "\n",
        "### 10. Make a random tensor with shape `(1, 1, 1, 10)` and then create a new tensor with all the `1` dimensions removed to be left with a tensor of shape `(10)`. Set the seed to `7` when you create it and print out the first tensor and it's shape as well as the second tensor and it's shape.\n",
        "\n",
        "The output should look like:\n",
        "\n",
        "```\n",
        "tensor([[[[0.5349, 0.1988, 0.6592, 0.6569, 0.2328, 0.4251, 0.2071, 0.6297,\n",
        "           0.3653, 0.8513]]]]) torch.Size([1, 1, 1, 10])\n",
        "tensor([0.5349, 0.1988, 0.6592, 0.6569, 0.2328, 0.4251, 0.2071, 0.6297, 0.3653,\n",
        "        0.8513]) torch.Size([10])\n",
        "```"
      ]
    },
    {
      "cell_type": "code",
      "execution_count": 36,
      "metadata": {
        "id": "TQ9zbRzVl1jV"
      },
      "outputs": [
        {
          "name": "stdout",
          "output_type": "stream",
          "text": [
            "tensor([[[[0.5349, 0.1988, 0.6592, 0.6569, 0.2328, 0.4251, 0.2071, 0.6297,\n",
            "           0.3653, 0.8513]]]]) torch.Size([1, 1, 1, 10])\n",
            "tensor([0.5349, 0.1988, 0.6592, 0.6569, 0.2328, 0.4251, 0.2071, 0.6297, 0.3653,\n",
            "        0.8513]) torch.Size([10])\n"
          ]
        }
      ],
      "source": [
        "# Set seed\n",
        "torch.manual_seed(7)\n",
        "\n",
        "\n",
        "# Create random tensor\n",
        "random_tensor = torch.rand(size=(1,1,1,10))\n",
        "\n",
        "# Remove single dimensions\n",
        "random_tensor2 = random_tensor.reshape(10)\n",
        "\n",
        "# Print out tensors and their shapes\n",
        "print(random_tensor, random_tensor.shape)\n",
        "print(random_tensor2, random_tensor2.shape)"
      ]
    }
  ],
  "metadata": {
    "accelerator": "GPU",
    "colab": {
      "collapsed_sections": [],
      "name": "00_pytorch_fundamentals_exercises.ipynb",
      "provenance": []
    },
    "kernelspec": {
      "display_name": "Python 3 (ipykernel)",
      "language": "python",
      "name": "python3"
    }
  },
  "nbformat": 4,
  "nbformat_minor": 0
}
