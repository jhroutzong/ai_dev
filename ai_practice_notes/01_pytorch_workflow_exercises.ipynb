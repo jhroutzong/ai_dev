{
  "cells": [
    {
      "cell_type": "markdown",
      "metadata": {
        "colab_type": "text",
        "id": "view-in-github"
      },
      "source": [
        "<a href=\"https://colab.research.google.com/github/mrdbourke/pytorch-deep-learning/blob/main/extras/exercises/01_pytorch_workflow_exercises.ipynb\" target=\"_parent\"><img src=\"https://colab.research.google.com/assets/colab-badge.svg\" alt=\"Open In Colab\"/></a>"
      ]
    },
    {
      "cell_type": "markdown",
      "metadata": {
        "id": "N8LsPXZti9Sw"
      },
      "source": [
        "# 01. PyTorch Workflow Exercise Template\n",
        "\n",
        "The following is a template for the PyTorch workflow exercises.\n",
        "\n",
        "It's only starter code and it's your job to fill in the blanks.\n",
        "\n",
        "Because of the flexibility of PyTorch, there may be more than one way to answer the question.\n",
        "\n",
        "Don't worry about trying to be *right* just try writing code that suffices the question.\n",
        "\n",
        "You can see one form of [solutions on GitHub](https://github.com/mrdbourke/pytorch-deep-learning/tree/main/extras/solutions) (but try the exercises below yourself first!)."
      ]
    },
    {
      "cell_type": "code",
      "execution_count": 16,
      "metadata": {
        "id": "Glu2fM4dkNlx"
      },
      "outputs": [],
      "source": [
        "# Import necessary libraries\n",
        "import torch\n",
        "import numpy as np"
      ]
    },
    {
      "cell_type": "code",
      "execution_count": 17,
      "metadata": {
        "id": "LqKhXY26m31s"
      },
      "outputs": [],
      "source": [
        "# Setup device-agnostic code\n",
        "device = \"cuda\" if torch.cuda.is_available() else \"cpu\""
      ]
    },
    {
      "cell_type": "markdown",
      "metadata": {
        "id": "g7HUhxCxjeBx"
      },
      "source": [
        "## 1. Create a straight line dataset using the linear regression formula (`weight * X + bias`).\n",
        "  * Set `weight=0.3` and `bias=0.9` there should be at least 100 datapoints total. \n",
        "  * Split the data into 80% training, 20% testing.\n",
        "  * Plot the training and testing data so it becomes visual.\n",
        "\n",
        "Your output of the below cell should look something like:\n",
        "```\n",
        "Number of X samples: 100\n",
        "Number of y samples: 100\n",
        "First 10 X & y samples:\n",
        "X: tensor([0.0000, 0.0100, 0.0200, 0.0300, 0.0400, 0.0500, 0.0600, 0.0700, 0.0800,\n",
        "        0.0900])\n",
        "y: tensor([0.9000, 0.9030, 0.9060, 0.9090, 0.9120, 0.9150, 0.9180, 0.9210, 0.9240,\n",
        "        0.9270])\n",
        "```\n",
        "\n",
        "Of course the numbers in `X` and `y` may be different but ideally they're created using the linear regression formula."
      ]
    },
    {
      "cell_type": "code",
      "execution_count": 18,
      "metadata": {
        "id": "KbDG5MV7jhvE"
      },
      "outputs": [
        {
          "name": "stdout",
          "output_type": "stream",
          "text": [
            "Number of X samples: 100\n",
            "Number of y samples: 100\n",
            "First 10 X & y samples:\n",
            "X: [0.         0.01010101 0.02020202 0.03030303 0.04040404 0.05050505\n",
            " 0.06060606 0.07070707 0.08080808 0.09090909]\n",
            "y: [0.9        0.9030303  0.90606061 0.90909091 0.91212121 0.91515152\n",
            " 0.91818182 0.92121212 0.92424242 0.92727273]\n"
          ]
        },
        {
          "data": {
            "image/png": "[encoded data removed]",
            "text/plain": [
              "<Figure size 576x432 with 1 Axes>"
            ]
          },
          "metadata": {
            "needs_background": "light"
          },
          "output_type": "display_data"
        }
      ],
      "source": [
        "# Create the data parameters\n",
        "# first attempt\n",
        "# weight = 0.3\n",
        "# bias = 0.9\n",
        "# x_values = np.zeros(100)\n",
        "# y_values = np.zeros(100)\n",
        "# i=0\n",
        "# while i < 100:\n",
        "#     x_values[i] = i * .01\n",
        "#     y_values[i] = .9 + i * .003\n",
        "#     i=i+1\n",
        "\n",
        "# print(x_values)\n",
        "# print(y_values)\n",
        "\n",
        "import numpy as np\n",
        "import matplotlib.pyplot as plt\n",
        "\n",
        "# Set weight and bias\n",
        "weight = 0.3\n",
        "bias = 0.9\n",
        "\n",
        "# Generate data using linear regression and numpy\n",
        "num_samples = 100\n",
        "X = np.linspace(0, 1, num_samples)\n",
        "y = weight * X + bias\n",
        "\n",
        "# Split data into training and testing sets\n",
        "train_idx = int(0.8 * num_samples)\n",
        "X_train = X[:train_idx]\n",
        "y_train = y[:train_idx]\n",
        "X_test = X[train_idx:]\n",
        "y_test = y[train_idx:]\n",
        "\n",
        "# Print number of samples\n",
        "print(f\"Number of X samples: {num_samples}\")\n",
        "print(f\"Number of y samples: {num_samples}\")\n",
        "\n",
        "# Print first 10 X & y samples\n",
        "print(\"First 10 X & y samples:\")\n",
        "print(f\"X: {X_train[:10]}\")\n",
        "print(f\"y: {y_train[:10]}\")\n",
        "\n",
        "# Plot training and testing data\n",
        "plt.figure(figsize=(8, 6))\n",
        "plt.scatter(X_train, y_train, color='blue', label='Training data')\n",
        "plt.scatter(X_test, y_test, color='red', label='Testing data')\n",
        "\n",
        "# Plot the line\n",
        "plt.plot(X, weight * X + bias, color='green', label='Linear regression line')\n",
        "\n",
        "plt.xlabel('X')\n",
        "plt.ylabel('y')\n",
        "plt.title('Straight line dataset')\n",
        "plt.legend()\n",
        "plt.grid(True)\n",
        "plt.show()"
      ]
    },
    {
      "cell_type": "markdown",
      "metadata": {
        "id": "ImZoe3v8jif8"
      },
      "source": [
        "## 2. Build a PyTorch model by subclassing `nn.Module`. \n",
        "  * Inside should be a randomly initialized `nn.Parameter()` with `requires_grad=True`, one for `weights` and one for `bias`. \n",
        "  * Implement the `forward()` method to compute the linear regression function you used to create the dataset in 1. \n",
        "  * Once you've constructed the model, make an instance of it and check its `state_dict()`.\n",
        "  * **Note:** If you'd like to use `nn.Linear()` instead of `nn.Parameter()` you can."
      ]
    },
    {
      "cell_type": "code",
      "execution_count": 19,
      "metadata": {
        "id": "qzd__Y5rjtB8"
      },
      "outputs": [
        {
          "name": "stdout",
          "output_type": "stream",
          "text": [
            "OrderedDict([('weights', tensor([0.6472])), ('bias', tensor([1.0937]))])\n"
          ]
        }
      ],
      "source": [
        "# Create PyTorch linear regression model by subclassing nn.Module\n",
        "import torch\n",
        "from torch import nn\n",
        "\n",
        "class LinearRegression(nn.Module):\n",
        "\n",
        "    def __init__(self):\n",
        "        super(LinearRegression, self).__init__()\n",
        "        # Define randomly initialized weights and bias\n",
        "        self.weights = nn.Parameter(torch.randn(1, requires_grad=True))\n",
        "        self.bias = nn.Parameter(torch.randn(1, requires_grad=True))\n",
        "\n",
        "    def forward(self, x):\n",
        "        # Compute the linear regression function\n",
        "        return x * self.weights + self.bias\n",
        "\n",
        "# Create an instance of the model\n",
        "model = LinearRegression()\n",
        "\n",
        "# Print the model's state_dict\n",
        "print(model.state_dict())\n"
      ]
    },
    {
      "cell_type": "code",
      "execution_count": 20,
      "metadata": {
        "id": "5LdcDnmOmyQ2"
      },
      "outputs": [],
      "source": [
        "# Instantiate the model and put it to the target device\n",
        "model = model.to(device)"
      ]
    },
    {
      "cell_type": "markdown",
      "metadata": {
        "id": "G6nYOrJhjtfu"
      },
      "source": [
        "## 3. Create a loss function and optimizer using `nn.L1Loss()` and `torch.optim.SGD(params, lr)` respectively. \n",
        "  * Set the learning rate of the optimizer to be 0.01 and the parameters to optimize should be the model parameters from the model you created in 2.\n",
        "  * Write a training loop to perform the appropriate training steps for 300 epochs.\n",
        "  * The training loop should test the model on the test dataset every 20 epochs."
      ]
    },
    {
      "cell_type": "code",
      "execution_count": 21,
      "metadata": {
        "id": "ltvoZ-FWjv1j"
      },
      "outputs": [],
      "source": [
        "# Create the loss function and optimizer\n"
      ]
    },
    {
      "cell_type": "code",
      "execution_count": 22,
      "metadata": {
        "id": "xpE83NvNnkdV"
      },
      "outputs": [
        {
          "ename": "NameError",
          "evalue": "name 'epochs' is not defined",
          "output_type": "error",
          "traceback": [
            "\u001b[0;31m---------------------------------------------------------------------------\u001b[0m",
            "\u001b[0;31mNameError\u001b[0m                                 Traceback (most recent call last)",
            "\u001b[0;32m/tmp/ipykernel_167262/2772093778.py\u001b[0m in \u001b[0;36m<module>\u001b[0;34m\u001b[0m\n\u001b[1;32m      8\u001b[0m \u001b[0;34m\u001b[0m\u001b[0m\n\u001b[1;32m      9\u001b[0m \u001b[0;34m\u001b[0m\u001b[0m\n\u001b[0;32m---> 10\u001b[0;31m \u001b[0;32mfor\u001b[0m \u001b[0mepoch\u001b[0m \u001b[0;32min\u001b[0m \u001b[0mrange\u001b[0m\u001b[0;34m(\u001b[0m\u001b[0mepochs\u001b[0m\u001b[0;34m)\u001b[0m\u001b[0;34m:\u001b[0m\u001b[0;34m\u001b[0m\u001b[0;34m\u001b[0m\u001b[0m\n\u001b[0m\u001b[1;32m     11\u001b[0m   \u001b[0;31m### Training\u001b[0m\u001b[0;34m\u001b[0m\u001b[0;34m\u001b[0m\u001b[0m\n\u001b[1;32m     12\u001b[0m \u001b[0;34m\u001b[0m\u001b[0m\n",
            "\u001b[0;31mNameError\u001b[0m: name 'epochs' is not defined"
          ]
        }
      ],
      "source": [
        "# Training loop\n",
        "\n",
        "\n",
        "# Train model for 300 epochs\n",
        "\n",
        "\n",
        "# Send data to target device\n",
        "\n",
        "\n",
        "for epoch in range(epochs):\n",
        "  ### Training\n",
        "\n",
        "  # Put model in train mode\n",
        "  \n",
        "\n",
        "  # 1. Forward pass\n",
        "  \n",
        "\n",
        "  # 2. Calculate loss\n",
        "  \n",
        "\n",
        "  # 3. Zero gradients\n",
        "  \n",
        "\n",
        "  # 4. Backpropagation\n",
        "  \n",
        "\n",
        "  # 5. Step the optimizer\n",
        "  \n",
        "\n",
        "  ### Perform testing every 20 epochs\n",
        "  if epoch % 20 == 0:\n",
        "\n",
        "    # Put model in evaluation mode and setup inference context \n",
        "    \n",
        "      # 1. Forward pass\n",
        "      \n",
        "      # 2. Calculate test loss\n",
        "\n",
        "      # Print out what's happening\n",
        "      print(f\"Epoch: {epoch} | Train loss: {loss:.3f} | Test loss: {test_loss:.3f}\")"
      ]
    },
    {
      "cell_type": "markdown",
      "metadata": {
        "id": "x4j4TM18jwa7"
      },
      "source": [
        "## 4. Make predictions with the trained model on the test data.\n",
        "  * Visualize these predictions against the original training and testing data (**note:** you may need to make sure the predictions are *not* on the GPU if you want to use non-CUDA-enabled libraries such as matplotlib to plot)."
      ]
    },
    {
      "cell_type": "code",
      "execution_count": null,
      "metadata": {
        "id": "bbMPK5Qjjyx_"
      },
      "outputs": [],
      "source": [
        "# Make predictions with the model\n"
      ]
    },
    {
      "cell_type": "code",
      "execution_count": null,
      "metadata": {
        "id": "K3BdmQaDpFo8"
      },
      "outputs": [],
      "source": [
        "# Plot the predictions (these may need to be on a specific device)\n"
      ]
    },
    {
      "cell_type": "markdown",
      "metadata": {
        "id": "s2OnlMWKjzX8"
      },
      "source": [
        "## 5. Save your trained model's `state_dict()` to file.\n",
        "  * Create a new instance of your model class you made in 2. and load in the `state_dict()` you just saved to it.\n",
        "  * Perform predictions on your test data with the loaded model and confirm they match the original model predictions from 4."
      ]
    },
    {
      "cell_type": "code",
      "execution_count": null,
      "metadata": {
        "id": "hgxhgD14qr-i"
      },
      "outputs": [],
      "source": [
        "from pathlib import Path\n",
        "\n",
        "# 1. Create models directory \n",
        "\n",
        "\n",
        "# 2. Create model save path \n",
        "\n",
        "# 3. Save the model state dict\n"
      ]
    },
    {
      "cell_type": "code",
      "execution_count": null,
      "metadata": {
        "id": "P9vTgiLRrJ7T"
      },
      "outputs": [],
      "source": [
        "# Create new instance of model and load saved state dict (make sure to put it on the target device)\n"
      ]
    },
    {
      "cell_type": "code",
      "execution_count": null,
      "metadata": {
        "id": "8UGX3VebrVtI"
      },
      "outputs": [],
      "source": [
        "# Make predictions with loaded model and compare them to the previous\n"
      ]
    }
  ],
  "metadata": {
    "accelerator": "GPU",
    "colab": {
      "authorship_tag": "ABX9TyNYzatJtFkfUqqdiR6rYwVL",
      "collapsed_sections": [],
      "include_colab_link": true,
      "name": "01_pytorch_workflow_exercises.ipynb",
      "provenance": []
    },
    "kernelspec": {
      "display_name": "Python 3 (ipykernel)",
      "language": "python",
      "name": "python3"
    },
    "language_info": {
      "codemirror_mode": {
        "name": "ipython",
        "version": 3
      },
      "file_extension": ".py",
      "mimetype": "text/x-python",
      "name": "python",
      "nbconvert_exporter": "python",
      "pygments_lexer": "ipython3",
      "version": "3.10.12"
    }
  },
  "nbformat": 4,
  "nbformat_minor": 0
}
